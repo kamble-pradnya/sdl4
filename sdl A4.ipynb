{
 "cells": [
  {
   "cell_type": "code",
   "execution_count": 4,
   "metadata": {},
   "outputs": [
    {
     "data": {
      "text/html": [
       "<div>\n",
       "<style scoped>\n",
       "    .dataframe tbody tr th:only-of-type {\n",
       "        vertical-align: middle;\n",
       "    }\n",
       "\n",
       "    .dataframe tbody tr th {\n",
       "        vertical-align: top;\n",
       "    }\n",
       "\n",
       "    .dataframe thead th {\n",
       "        text-align: right;\n",
       "    }\n",
       "</style>\n",
       "<table border=\"1\" class=\"dataframe\">\n",
       "  <thead>\n",
       "    <tr style=\"text-align: right;\">\n",
       "      <th></th>\n",
       "      <th>CityName</th>\n",
       "      <th>VehicleTypeId</th>\n",
       "      <th>Description</th>\n",
       "      <th>Year</th>\n",
       "      <th>Month</th>\n",
       "      <th>Count</th>\n",
       "      <th>Amount</th>\n",
       "    </tr>\n",
       "  </thead>\n",
       "  <tbody>\n",
       "    <tr>\n",
       "      <th>0</th>\n",
       "      <td>Surat</td>\n",
       "      <td>1</td>\n",
       "      <td>MOPED/SCOOTER</td>\n",
       "      <td>1989</td>\n",
       "      <td>4</td>\n",
       "      <td>2</td>\n",
       "      <td>293.0</td>\n",
       "    </tr>\n",
       "    <tr>\n",
       "      <th>1</th>\n",
       "      <td>Surat</td>\n",
       "      <td>1</td>\n",
       "      <td>MOPED/SCOOTER</td>\n",
       "      <td>1989</td>\n",
       "      <td>7</td>\n",
       "      <td>1</td>\n",
       "      <td>162.0</td>\n",
       "    </tr>\n",
       "    <tr>\n",
       "      <th>2</th>\n",
       "      <td>Surat</td>\n",
       "      <td>1</td>\n",
       "      <td>MOPED/SCOOTER</td>\n",
       "      <td>1989</td>\n",
       "      <td>8</td>\n",
       "      <td>1</td>\n",
       "      <td>144.0</td>\n",
       "    </tr>\n",
       "    <tr>\n",
       "      <th>3</th>\n",
       "      <td>Surat</td>\n",
       "      <td>1</td>\n",
       "      <td>MOPED/SCOOTER</td>\n",
       "      <td>1989</td>\n",
       "      <td>10</td>\n",
       "      <td>1</td>\n",
       "      <td>144.0</td>\n",
       "    </tr>\n",
       "    <tr>\n",
       "      <th>4</th>\n",
       "      <td>Surat</td>\n",
       "      <td>9</td>\n",
       "      <td>LOADING TRUCK/TEMPO/TRACTOR 2 TO 4 TON</td>\n",
       "      <td>1989</td>\n",
       "      <td>12</td>\n",
       "      <td>1</td>\n",
       "      <td>216.0</td>\n",
       "    </tr>\n",
       "  </tbody>\n",
       "</table>\n",
       "</div>"
      ],
      "text/plain": [
       "  CityName  VehicleTypeId                                    Description  \\\n",
       "0    Surat              1  MOPED/SCOOTER                                   \n",
       "1    Surat              1  MOPED/SCOOTER                                   \n",
       "2    Surat              1  MOPED/SCOOTER                                   \n",
       "3    Surat              1  MOPED/SCOOTER                                   \n",
       "4    Surat              9  LOADING TRUCK/TEMPO/TRACTOR 2 TO 4 TON          \n",
       "\n",
       "   Year  Month  Count  Amount  \n",
       "0  1989      4      2   293.0  \n",
       "1  1989      7      1   162.0  \n",
       "2  1989      8      1   144.0  \n",
       "3  1989     10      1   144.0  \n",
       "4  1989     12      1   216.0  "
      ]
     },
     "execution_count": 4,
     "metadata": {},
     "output_type": "execute_result"
    }
   ],
   "source": [
    "import numpy as np\n",
    "import pandas as pd\n",
    "\n",
    "import pandas as pd\n",
    "d=pd.read_csv(\"C:\\GetVehicleData.csv\")\n",
    "d.head()"
   ]
  },
  {
   "cell_type": "code",
   "execution_count": 13,
   "metadata": {},
   "outputs": [
    {
     "data": {
      "text/html": [
       "<div>\n",
       "<style scoped>\n",
       "    .dataframe tbody tr th:only-of-type {\n",
       "        vertical-align: middle;\n",
       "    }\n",
       "\n",
       "    .dataframe tbody tr th {\n",
       "        vertical-align: top;\n",
       "    }\n",
       "\n",
       "    .dataframe thead th {\n",
       "        text-align: right;\n",
       "    }\n",
       "</style>\n",
       "<table border=\"1\" class=\"dataframe\">\n",
       "  <thead>\n",
       "    <tr style=\"text-align: right;\">\n",
       "      <th></th>\n",
       "      <th>A</th>\n",
       "      <th>B</th>\n",
       "      <th>C</th>\n",
       "      <th>D</th>\n",
       "      <th>E</th>\n",
       "      <th>F</th>\n",
       "      <th>G</th>\n",
       "    </tr>\n",
       "  </thead>\n",
       "  <tbody>\n",
       "    <tr>\n",
       "      <th>0</th>\n",
       "      <td>Surat</td>\n",
       "      <td>1</td>\n",
       "      <td>MOPED/SCOOTER</td>\n",
       "      <td>1989</td>\n",
       "      <td>4</td>\n",
       "      <td>2</td>\n",
       "      <td>293.0</td>\n",
       "    </tr>\n",
       "    <tr>\n",
       "      <th>1</th>\n",
       "      <td>Surat</td>\n",
       "      <td>1</td>\n",
       "      <td>MOPED/SCOOTER</td>\n",
       "      <td>1989</td>\n",
       "      <td>7</td>\n",
       "      <td>1</td>\n",
       "      <td>162.0</td>\n",
       "    </tr>\n",
       "    <tr>\n",
       "      <th>2</th>\n",
       "      <td>Surat</td>\n",
       "      <td>1</td>\n",
       "      <td>MOPED/SCOOTER</td>\n",
       "      <td>1989</td>\n",
       "      <td>8</td>\n",
       "      <td>1</td>\n",
       "      <td>144.0</td>\n",
       "    </tr>\n",
       "    <tr>\n",
       "      <th>3</th>\n",
       "      <td>Surat</td>\n",
       "      <td>1</td>\n",
       "      <td>MOPED/SCOOTER</td>\n",
       "      <td>1989</td>\n",
       "      <td>10</td>\n",
       "      <td>1</td>\n",
       "      <td>144.0</td>\n",
       "    </tr>\n",
       "    <tr>\n",
       "      <th>4</th>\n",
       "      <td>Surat</td>\n",
       "      <td>9</td>\n",
       "      <td>LOADING TRUCK/TEMPO/TRACTOR 2 TO 4 TON</td>\n",
       "      <td>1989</td>\n",
       "      <td>12</td>\n",
       "      <td>1</td>\n",
       "      <td>216.0</td>\n",
       "    </tr>\n",
       "  </tbody>\n",
       "</table>\n",
       "</div>"
      ],
      "text/plain": [
       "       A  B                                              C     D   E  F      G\n",
       "0  Surat  1  MOPED/SCOOTER                                  1989   4  2  293.0\n",
       "1  Surat  1  MOPED/SCOOTER                                  1989   7  1  162.0\n",
       "2  Surat  1  MOPED/SCOOTER                                  1989   8  1  144.0\n",
       "3  Surat  1  MOPED/SCOOTER                                  1989  10  1  144.0\n",
       "4  Surat  9  LOADING TRUCK/TEMPO/TRACTOR 2 TO 4 TON         1989  12  1  216.0"
      ]
     },
     "execution_count": 13,
     "metadata": {},
     "output_type": "execute_result"
    }
   ],
   "source": [
    "header_names=[\"A\",\"B\",\"C\",\"D\",\"E\",\"F\",\"G\"]\n",
    "d=pd.read_csv(\"C:\\GetVehicleData.csv\",header=None,skiprows=1,names=header_names)\n",
    "d.head()"
   ]
  },
  {
   "cell_type": "code",
   "execution_count": 35,
   "metadata": {},
   "outputs": [
    {
     "name": "stdout",
     "output_type": "stream",
     "text": [
      "                        A                      B                      C\n",
      "1                     NaN                    NaN                    NaN\n",
      "2   C:\\GetVehicleData.csv  C:\\GetVehicleData.csv  C:\\GetVehicleData.csv\n",
      "3   C:\\GetVehicleData.csv  C:\\GetVehicleData.csv  C:\\GetVehicleData.csv\n",
      "4                     NaN                    NaN                    NaN\n",
      "5                     NaN                    NaN                    NaN\n",
      "6                     NaN                    NaN                    NaN\n",
      "7                     NaN                    NaN                    NaN\n",
      "8                     NaN                    NaN                    NaN\n",
      "9                     NaN                    NaN                    NaN\n",
      "10                    NaN                    NaN                    NaN\n"
     ]
    }
   ],
   "source": [
    "d=pd.DataFrame(\"C:\\GetVehicleData.csv\",index=[2,3],columns=[\"A\",\"B\",\"C\"])\n",
    "d=d.reindex([1,2,3,4,5,6,7,8,9,10])\n",
    "print(d)"
   ]
  },
  {
   "cell_type": "code",
   "execution_count": 14,
   "metadata": {
    "scrolled": true
   },
   "outputs": [
    {
     "data": {
      "text/html": [
       "<div>\n",
       "<style scoped>\n",
       "    .dataframe tbody tr th:only-of-type {\n",
       "        vertical-align: middle;\n",
       "    }\n",
       "\n",
       "    .dataframe tbody tr th {\n",
       "        vertical-align: top;\n",
       "    }\n",
       "\n",
       "    .dataframe thead th {\n",
       "        text-align: right;\n",
       "    }\n",
       "</style>\n",
       "<table border=\"1\" class=\"dataframe\">\n",
       "  <thead>\n",
       "    <tr style=\"text-align: right;\">\n",
       "      <th></th>\n",
       "      <th>B</th>\n",
       "      <th>D</th>\n",
       "      <th>E</th>\n",
       "      <th>F</th>\n",
       "      <th>G</th>\n",
       "    </tr>\n",
       "  </thead>\n",
       "  <tbody>\n",
       "    <tr>\n",
       "      <th>B</th>\n",
       "      <td>1.000000</td>\n",
       "      <td>0.231949</td>\n",
       "      <td>-0.002265</td>\n",
       "      <td>-0.361315</td>\n",
       "      <td>-0.187502</td>\n",
       "    </tr>\n",
       "    <tr>\n",
       "      <th>D</th>\n",
       "      <td>0.231949</td>\n",
       "      <td>1.000000</td>\n",
       "      <td>-0.025787</td>\n",
       "      <td>0.250776</td>\n",
       "      <td>0.240848</td>\n",
       "    </tr>\n",
       "    <tr>\n",
       "      <th>E</th>\n",
       "      <td>-0.002265</td>\n",
       "      <td>-0.025787</td>\n",
       "      <td>1.000000</td>\n",
       "      <td>0.029761</td>\n",
       "      <td>0.025113</td>\n",
       "    </tr>\n",
       "    <tr>\n",
       "      <th>F</th>\n",
       "      <td>-0.361315</td>\n",
       "      <td>0.250776</td>\n",
       "      <td>0.029761</td>\n",
       "      <td>1.000000</td>\n",
       "      <td>0.396450</td>\n",
       "    </tr>\n",
       "    <tr>\n",
       "      <th>G</th>\n",
       "      <td>-0.187502</td>\n",
       "      <td>0.240848</td>\n",
       "      <td>0.025113</td>\n",
       "      <td>0.396450</td>\n",
       "      <td>1.000000</td>\n",
       "    </tr>\n",
       "  </tbody>\n",
       "</table>\n",
       "</div>"
      ],
      "text/plain": [
       "          B         D         E         F         G\n",
       "B  1.000000  0.231949 -0.002265 -0.361315 -0.187502\n",
       "D  0.231949  1.000000 -0.025787  0.250776  0.240848\n",
       "E -0.002265 -0.025787  1.000000  0.029761  0.025113\n",
       "F -0.361315  0.250776  0.029761  1.000000  0.396450\n",
       "G -0.187502  0.240848  0.025113  0.396450  1.000000"
      ]
     },
     "execution_count": 14,
     "metadata": {},
     "output_type": "execute_result"
    }
   ],
   "source": [
    "d.corr()"
   ]
  },
  {
   "cell_type": "code",
   "execution_count": 15,
   "metadata": {},
   "outputs": [
    {
     "data": {
      "text/html": [
       "<div>\n",
       "<style scoped>\n",
       "    .dataframe tbody tr th:only-of-type {\n",
       "        vertical-align: middle;\n",
       "    }\n",
       "\n",
       "    .dataframe tbody tr th {\n",
       "        vertical-align: top;\n",
       "    }\n",
       "\n",
       "    .dataframe thead th {\n",
       "        text-align: right;\n",
       "    }\n",
       "</style>\n",
       "<table border=\"1\" class=\"dataframe\">\n",
       "  <thead>\n",
       "    <tr style=\"text-align: right;\">\n",
       "      <th></th>\n",
       "      <th>B</th>\n",
       "      <th>D</th>\n",
       "      <th>E</th>\n",
       "      <th>F</th>\n",
       "      <th>G</th>\n",
       "    </tr>\n",
       "  </thead>\n",
       "  <tbody>\n",
       "    <tr>\n",
       "      <th>count</th>\n",
       "      <td>2774.000000</td>\n",
       "      <td>2774.000000</td>\n",
       "      <td>2774.000000</td>\n",
       "      <td>2774.00000</td>\n",
       "      <td>2.773000e+03</td>\n",
       "    </tr>\n",
       "    <tr>\n",
       "      <th>mean</th>\n",
       "      <td>8.581471</td>\n",
       "      <td>2009.959265</td>\n",
       "      <td>6.412401</td>\n",
       "      <td>648.42646</td>\n",
       "      <td>2.159658e+06</td>\n",
       "    </tr>\n",
       "    <tr>\n",
       "      <th>std</th>\n",
       "      <td>6.915259</td>\n",
       "      <td>7.005340</td>\n",
       "      <td>3.458278</td>\n",
       "      <td>1596.07567</td>\n",
       "      <td>7.621765e+06</td>\n",
       "    </tr>\n",
       "    <tr>\n",
       "      <th>min</th>\n",
       "      <td>1.000000</td>\n",
       "      <td>1989.000000</td>\n",
       "      <td>1.000000</td>\n",
       "      <td>1.00000</td>\n",
       "      <td>1.200000e+01</td>\n",
       "    </tr>\n",
       "    <tr>\n",
       "      <th>25%</th>\n",
       "      <td>3.000000</td>\n",
       "      <td>2004.000000</td>\n",
       "      <td>3.000000</td>\n",
       "      <td>2.00000</td>\n",
       "      <td>5.956000e+03</td>\n",
       "    </tr>\n",
       "    <tr>\n",
       "      <th>50%</th>\n",
       "      <td>7.000000</td>\n",
       "      <td>2011.000000</td>\n",
       "      <td>6.000000</td>\n",
       "      <td>15.00000</td>\n",
       "      <td>5.008500e+04</td>\n",
       "    </tr>\n",
       "    <tr>\n",
       "      <th>75%</th>\n",
       "      <td>11.000000</td>\n",
       "      <td>2016.000000</td>\n",
       "      <td>9.000000</td>\n",
       "      <td>198.00000</td>\n",
       "      <td>5.910880e+05</td>\n",
       "    </tr>\n",
       "    <tr>\n",
       "      <th>max</th>\n",
       "      <td>31.000000</td>\n",
       "      <td>2020.000000</td>\n",
       "      <td>12.000000</td>\n",
       "      <td>10143.00000</td>\n",
       "      <td>8.154936e+07</td>\n",
       "    </tr>\n",
       "  </tbody>\n",
       "</table>\n",
       "</div>"
      ],
      "text/plain": [
       "                 B            D            E            F             G\n",
       "count  2774.000000  2774.000000  2774.000000   2774.00000  2.773000e+03\n",
       "mean      8.581471  2009.959265     6.412401    648.42646  2.159658e+06\n",
       "std       6.915259     7.005340     3.458278   1596.07567  7.621765e+06\n",
       "min       1.000000  1989.000000     1.000000      1.00000  1.200000e+01\n",
       "25%       3.000000  2004.000000     3.000000      2.00000  5.956000e+03\n",
       "50%       7.000000  2011.000000     6.000000     15.00000  5.008500e+04\n",
       "75%      11.000000  2016.000000     9.000000    198.00000  5.910880e+05\n",
       "max      31.000000  2020.000000    12.000000  10143.00000  8.154936e+07"
      ]
     },
     "execution_count": 15,
     "metadata": {},
     "output_type": "execute_result"
    }
   ],
   "source": [
    "d.describe()"
   ]
  },
  {
   "cell_type": "code",
   "execution_count": 25,
   "metadata": {},
   "outputs": [
    {
     "data": {
      "image/png": "[encoded data removed]",
      "text/plain": [
       "<Figure size 432x288 with 1 Axes>"
      ]
     },
     "metadata": {
      "needs_background": "light"
     },
     "output_type": "display_data"
    }
   ],
   "source": [
    "import matplotlib.pyplot as plt\n",
    "\n",
    "header_names=[\"A\",\"B\",\"C\",\"D\",\"E\",\"F\",\"G\"]\n",
    "d=pd.read_csv(\"C:\\GetVehicleData.csv\",header=None,skiprows=1,names=header_names)\n",
    "d.head()\n",
    "\n",
    "\n",
    "X=d[\"E\"]\n",
    "Y=d[\"F\"]\n",
    "plt.bar(X,Y)\n",
    "plt.title(\"Bar Plot\")\n",
    "plt.xlabel(\"Month\")\n",
    "plt.ylabel(\"Count\")\n",
    "plt.show()"
   ]
  },
  {
   "cell_type": "code",
   "execution_count": 26,
   "metadata": {},
   "outputs": [
    {
     "data": {
      "text/plain": [
       "B        7.0\n",
       "D     2011.0\n",
       "E        6.0\n",
       "F       15.0\n",
       "G    50085.0\n",
       "dtype: float64"
      ]
     },
     "execution_count": 26,
     "metadata": {},
     "output_type": "execute_result"
    }
   ],
   "source": [
    "d.median()"
   ]
  },
  {
   "cell_type": "code",
   "execution_count": 36,
   "metadata": {},
   "outputs": [
    {
     "name": "stdout",
     "output_type": "stream",
     "text": [
      "1      True\n",
      "2     False\n",
      "3     False\n",
      "4      True\n",
      "5      True\n",
      "6      True\n",
      "7      True\n",
      "8      True\n",
      "9      True\n",
      "10     True\n",
      "Name: A, dtype: bool\n"
     ]
    }
   ],
   "source": [
    "print(d[\"A\"].isnull())"
   ]
  },
  {
   "cell_type": "code",
   "execution_count": 37,
   "metadata": {},
   "outputs": [
    {
     "name": "stdout",
     "output_type": "stream",
     "text": [
      "1      True\n",
      "2     False\n",
      "3     False\n",
      "4      True\n",
      "5      True\n",
      "6      True\n",
      "7      True\n",
      "8      True\n",
      "9      True\n",
      "10     True\n",
      "Name: B, dtype: bool\n"
     ]
    }
   ],
   "source": [
    "print(d[\"B\"].isnull())"
   ]
  },
  {
   "cell_type": "code",
   "execution_count": 38,
   "metadata": {},
   "outputs": [
    {
     "name": "stdout",
     "output_type": "stream",
     "text": [
      "NaN replaced with '0':\n",
      "                        A                      B                      C\n",
      "1                       0                      0                      0\n",
      "2   C:\\GetVehicleData.csv  C:\\GetVehicleData.csv  C:\\GetVehicleData.csv\n",
      "3   C:\\GetVehicleData.csv  C:\\GetVehicleData.csv  C:\\GetVehicleData.csv\n",
      "4                       0                      0                      0\n",
      "5                       0                      0                      0\n",
      "6                       0                      0                      0\n",
      "7                       0                      0                      0\n",
      "8                       0                      0                      0\n",
      "9                       0                      0                      0\n",
      "10                      0                      0                      0\n"
     ]
    }
   ],
   "source": [
    "print(\"NaN replaced with '0':\")\n",
    "print(d.fillna(0))"
   ]
  },
  {
   "cell_type": "code",
   "execution_count": 39,
   "metadata": {},
   "outputs": [
    {
     "name": "stdout",
     "output_type": "stream",
     "text": [
      "                        A                      B                      C\n",
      "1                     NaN                    NaN                    NaN\n",
      "2   C:\\GetVehicleData.csv  C:\\GetVehicleData.csv  C:\\GetVehicleData.csv\n",
      "3   C:\\GetVehicleData.csv  C:\\GetVehicleData.csv  C:\\GetVehicleData.csv\n",
      "4   C:\\GetVehicleData.csv  C:\\GetVehicleData.csv  C:\\GetVehicleData.csv\n",
      "5   C:\\GetVehicleData.csv  C:\\GetVehicleData.csv  C:\\GetVehicleData.csv\n",
      "6   C:\\GetVehicleData.csv  C:\\GetVehicleData.csv  C:\\GetVehicleData.csv\n",
      "7   C:\\GetVehicleData.csv  C:\\GetVehicleData.csv  C:\\GetVehicleData.csv\n",
      "8   C:\\GetVehicleData.csv  C:\\GetVehicleData.csv  C:\\GetVehicleData.csv\n",
      "9   C:\\GetVehicleData.csv  C:\\GetVehicleData.csv  C:\\GetVehicleData.csv\n",
      "10  C:\\GetVehicleData.csv  C:\\GetVehicleData.csv  C:\\GetVehicleData.csv\n",
      "                       A                      B                      C\n",
      "2  C:\\GetVehicleData.csv  C:\\GetVehicleData.csv  C:\\GetVehicleData.csv\n",
      "3  C:\\GetVehicleData.csv  C:\\GetVehicleData.csv  C:\\GetVehicleData.csv\n"
     ]
    }
   ],
   "source": [
    "print(d.fillna(method='pad'))\n",
    "print(d.dropna())"
   ]
  },
  {
   "cell_type": "code",
   "execution_count": null,
   "metadata": {},
   "outputs": [],
   "source": []
  },
  {
   "cell_type": "code",
   "execution_count": null,
   "metadata": {},
   "outputs": [],
   "source": []
  }
 ],
 "metadata": {
  "kernelspec": {
   "display_name": "Python 3",
   "language": "python",
   "name": "python3"
  },
  "language_info": {
   "codemirror_mode": {
    "name": "ipython",
    "version": 3
   },
   "file_extension": ".py",
   "mimetype": "text/x-python",
   "name": "python",
   "nbconvert_exporter": "python",
   "pygments_lexer": "ipython3",
   "version": "3.7.6"
  }
 },
 "nbformat": 4,
 "nbformat_minor": 4
}
